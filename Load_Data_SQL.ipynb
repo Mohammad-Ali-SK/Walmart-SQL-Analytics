{
 "cells": [
  {
   "cell_type": "code",
   "execution_count": 13,
   "id": "f593aa04",
   "metadata": {},
   "outputs": [
    {
     "name": "stdout",
     "output_type": "stream",
     "text": [
      "✅ Connected to the database.\n",
      "📂 Trying to read file: C:/Users/moham/Desktop/Data Analysis/2025 Data Analysis/SQL Zero - Hero/Walmart\\Clean_Walmart_data_1.csv\n",
      "🛠️ Table `walmart_data` created or already exists.\n",
      "✅ Data from `Clean_Walmart_data_1.csv` inserted into `walmart_data`.\n",
      "🔒 Database connection closed.\n"
     ]
    }
   ],
   "source": [
    "import pandas as pd\n",
    "import psycopg2\n",
    "import os\n",
    "\n",
    "folder_path = 'C:/Users/moham/Desktop/Data Analysis/2025 Data Analysis/SQL Zero - Hero/Walmart'\n",
    "\n",
    "csv_files = [\n",
    "    ('Clean_Walmart_data_1.csv', 'walmart_data')\n",
    "]\n",
    "\n",
    "def get_sql_type(dtype):\n",
    "    if pd.api.types.is_integer_dtype(dtype):\n",
    "        return 'INTEGER'\n",
    "    elif pd.api.types.is_float_dtype(dtype):\n",
    "        return 'REAL'\n",
    "    elif pd.api.types.is_bool_dtype(dtype):\n",
    "        return 'BOOLEAN'\n",
    "    elif pd.api.types.is_datetime64_any_dtype(dtype):\n",
    "        return 'TIMESTAMP'\n",
    "    else:\n",
    "        return 'TEXT'\n",
    "\n",
    "try:\n",
    "    conn = psycopg2.connect(\n",
    "        host='localhost',\n",
    "        user='postgres',\n",
    "        password='mohammad',\n",
    "        dbname='Walmart',\n",
    "        port='5432'\n",
    "    )\n",
    "    cursor = conn.cursor()\n",
    "    print(\"✅ Connected to the database.\")\n",
    "\n",
    "    for csv_file, table_name in csv_files:\n",
    "        file_path = os.path.join(folder_path, csv_file)\n",
    "        print(f\"📂 Trying to read file: {file_path}\")\n",
    "\n",
    "        if not os.path.exists(file_path):\n",
    "            print(f\"❌ File not found: {file_path}\")\n",
    "            continue\n",
    "\n",
    "        df = pd.read_csv(file_path, encoding='ISO-8859-1')\n",
    "        df = df.where(pd.notnull(df), None)\n",
    "        df.columns = [col.strip().replace(' ', '_').replace('-', '_').replace('.', '_') for col in df.columns]\n",
    "\n",
    "        columns = ', '.join([f'\"{col}\" {get_sql_type(df[col].dtype)}' for col in df.columns])\n",
    "        create_table_query = f'CREATE TABLE IF NOT EXISTS \"{table_name}\" ({columns});'\n",
    "        cursor.execute(create_table_query)\n",
    "        print(f\"🛠️ Table `{table_name}` created or already exists.\")\n",
    "\n",
    "        # ✅ Fix: Use separate strings instead of nested f-strings\n",
    "        column_names = ', '.join([f'\"{col}\"' for col in df.columns])\n",
    "        placeholders = ', '.join(['%s'] * len(df.columns))\n",
    "        insert_query = f'INSERT INTO \"{table_name}\" ({column_names}) VALUES ({placeholders});'\n",
    "\n",
    "        for row in df.itertuples(index=False, name=None):\n",
    "            cursor.execute(insert_query, row)\n",
    "\n",
    "        conn.commit()\n",
    "        print(f\"✅ Data from `{csv_file}` inserted into `{table_name}`.\")\n",
    "\n",
    "except psycopg2.Error as err:\n",
    "    print(f\"❗Database error: {err}\")\n",
    "except Exception as e:\n",
    "    print(f\"❗General error: {e}\")\n",
    "finally:\n",
    "    if 'cursor' in locals():\n",
    "        cursor.close()\n",
    "    if 'conn' in locals():\n",
    "        conn.close()\n",
    "    print(\"🔒 Database connection closed.\")\n",
    "\n",
    "\n"
   ]
  },
  {
   "cell_type": "code",
   "execution_count": null,
   "id": "a96261fe",
   "metadata": {},
   "outputs": [],
   "source": []
  }
 ],
 "metadata": {
  "kernelspec": {
   "display_name": "Python 3",
   "language": "python",
   "name": "python3"
  },
  "language_info": {
   "codemirror_mode": {
    "name": "ipython",
    "version": 3
   },
   "file_extension": ".py",
   "mimetype": "text/x-python",
   "name": "python",
   "nbconvert_exporter": "python",
   "pygments_lexer": "ipython3",
   "version": "3.12.3"
  }
 },
 "nbformat": 4,
 "nbformat_minor": 5
}
